{
  "nbformat": 4,
  "nbformat_minor": 0,
  "metadata": {
    "colab": {
      "name": "weapon_new.ipynb",
      "provenance": [],
      "authorship_tag": "ABX9TyPy46PGPw3Hf00RpXoMDGTA",
      "include_colab_link": true
    },
    "kernelspec": {
      "name": "python3",
      "display_name": "Python 3"
    }
  },
  "cells": [
    {
      "cell_type": "markdown",
      "metadata": {
        "id": "view-in-github",
        "colab_type": "text"
      },
      "source": [
        "<a href=\"https://colab.research.google.com/github/hannan178/Wicked/blob/master/Weapon/Object_Detector_Colab.ipynb\" target=\"_parent\"><img src=\"https://colab.research.google.com/assets/colab-badge.svg\" alt=\"Open In Colab\"/></a>"
      ]
    },
    {
      "cell_type": "code",
      "metadata": {
        "id": "3jPzycqgiT01",
        "colab_type": "code",
        "colab": {
          "base_uri": "https://localhost:8080/",
          "height": 101
        },
        "outputId": "85a545b8-9e94-4079-93b3-1922caf4a064"
      },
      "source": [
        "!git clone https://github.com/KyleMoore1/weapon-detect.git"
      ],
      "execution_count": 1,
      "outputs": [
        {
          "output_type": "stream",
          "text": [
            "Cloning into 'weapon-detect'...\n",
            "remote: Enumerating objects: 446, done.\u001b[K\n",
            "remote: Total 446 (delta 0), reused 0 (delta 0), pack-reused 446\u001b[K\n",
            "Receiving objects: 100% (446/446), 2.38 MiB | 2.22 MiB/s, done.\n",
            "Resolving deltas: 100% (268/268), done.\n"
          ],
          "name": "stdout"
        }
      ]
    },
    {
      "cell_type": "code",
      "metadata": {
        "id": "gtFxas2UitCN",
        "colab_type": "code",
        "colab": {
          "base_uri": "https://localhost:8080/",
          "height": 34
        },
        "outputId": "604f92dd-b48e-4e4b-b64b-58caa70379e2"
      },
      "source": [
        "cd /content/weapon-detect"
      ],
      "execution_count": 2,
      "outputs": [
        {
          "output_type": "stream",
          "text": [
            "/content/weapon-detect\n"
          ],
          "name": "stdout"
        }
      ]
    },
    {
      "cell_type": "code",
      "metadata": {
        "id": "w8EEUcA0jzzZ",
        "colab_type": "code",
        "colab": {
          "base_uri": "https://localhost:8080/",
          "height": 726
        },
        "outputId": "d7802e51-7d57-42c3-9619-05f80d41a3c1"
      },
      "source": [
        "!wget https://pjreddie.com/media/files/yolov3.weights \n",
        "!python detect.py --images imgs --det det "
      ],
      "execution_count": 4,
      "outputs": [
        {
          "output_type": "stream",
          "text": [
            "--2020-03-11 07:46:55--  https://pjreddie.com/media/files/yolov3.weights\n",
            "Resolving pjreddie.com (pjreddie.com)... 128.208.4.108\n",
            "Connecting to pjreddie.com (pjreddie.com)|128.208.4.108|:443... connected.\n",
            "HTTP request sent, awaiting response... 200 OK\n",
            "Length: 248007048 (237M) [application/octet-stream]\n",
            "Saving to: ‘yolov3.weights’\n",
            "\n",
            "yolov3.weights      100%[===================>] 236.52M   133KB/s    in 21m 24s \n",
            "\n",
            "2020-03-11 08:08:20 (189 KB/s) - ‘yolov3.weights’ saved [248007048/248007048]\n",
            "\n",
            "Loading network.....\n",
            "Network successfully loaded\n",
            "giraffe.jpg          predicted in  1.429 seconds\n",
            "Objects Detected:    zebra giraffe giraffe\n",
            "----------------------------------------------------------\n",
            "messi.jpg            predicted in  1.354 seconds\n",
            "Objects Detected:    person person person sports ball\n",
            "----------------------------------------------------------\n",
            "herd_of_horses.jpg   predicted in  1.354 seconds\n",
            "Objects Detected:    horse horse horse horse\n",
            "----------------------------------------------------------\n",
            "person.jpg           predicted in  1.366 seconds\n",
            "Objects Detected:    person dog horse\n",
            "----------------------------------------------------------\n",
            "eagle.jpg            predicted in  1.351 seconds\n",
            "Objects Detected:    bird\n",
            "----------------------------------------------------------\n",
            "img4.jpg             predicted in  1.363 seconds\n",
            "Objects Detected:    chair chair chair clock\n",
            "----------------------------------------------------------\n",
            "img2.jpg             predicted in  1.371 seconds\n",
            "Objects Detected:    train\n",
            "----------------------------------------------------------\n",
            "img3.jpg             predicted in  1.369 seconds\n",
            "Objects Detected:    car car car car car car car truck traffic light\n",
            "----------------------------------------------------------\n",
            "Traceback (most recent call last):\n",
            "  File \"detect.py\", line 234, in <module>\n",
            "    output = torch.cat((output,prediction))\n",
            "RuntimeError: invalid argument 0: Sizes of tensors must match except in dimension 0. Got 8 and 86 in dimension 1 at /pytorch/aten/src/TH/generic/THTensor.cpp:612\n"
          ],
          "name": "stdout"
        }
      ]
    },
    {
      "cell_type": "code",
      "metadata": {
        "id": "dOJ9WsReqGRm",
        "colab_type": "code",
        "colab": {}
      },
      "source": [
        "!python detect.py --images imgs --det det "
      ],
      "execution_count": 0,
      "outputs": []
    }
  ]
}